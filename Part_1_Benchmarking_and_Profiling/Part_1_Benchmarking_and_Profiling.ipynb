{
 "cells": [
  {
   "cell_type": "markdown",
   "metadata": {},
   "source": [
    "# <span style='color:aliceblue'><center style='background:#000000 border-radius:0px 25px;padding:25px'> 🦋🌸Part 1. Benchmarking and Profiling🌻🌈</center></span>"
   ]
  },
  {
   "cell_type": "markdown",
   "metadata": {
    "id": "neOOapewWx_T"
   },
   "source": [
    "### 1. Read the sections“Introducing the Julia Set”and “Calculating the Full Julia Set”on Chapter  2.  Profiling  to  Find  Bottlenecksfrom  the book: M.  Gorelick  &  I.  Ozsvald (2020). High Performance Python. Practical Performant Programming for Humans.Second  Edition.  United  States  of  America:  O’Reilly  Media,  Inc.Implement  the chapter functions(Example2-1, 2-2, 2-3 and 2-4)on Python in order to calculate the Julia Set. Make the representation for the false gray and pure gray scale."
   ]
  },
  {
   "cell_type": "code",
   "execution_count": null,
   "metadata": {},
   "outputs": [
    {
     "name": "stdout",
     "output_type": "stream",
     "text": [
      "2.545584412271571\n",
      "Top-left corner escape iterations: 0\n",
      "0: z=-0.62772-0.42193j, abs(z)=0.756, c=-0.62772-0.42193j\n",
      "1: z=-0.41171+0.10778j, abs(z)=0.426, c=-0.62772-0.42193j\n",
      "2: z=-0.46983-0.51068j, abs(z)=0.694, c=-0.62772-0.42193j\n",
      "3: z=-0.66777+0.05793j, abs(z)=0.670, c=-0.62772-0.42193j\n",
      "4: z=-0.18516-0.49930j, abs(z)=0.533, c=-0.62772-0.42193j\n",
      "5: z=-0.84274-0.23703j, abs(z)=0.875, c=-0.62772-0.42193j\n",
      "6: z=0.02630-0.02242j, abs(z)=0.035, c=-0.62772-0.42193j\n",
      "7: z=-0.62753-0.42311j, abs(z)=0.757, c=-0.62772-0.42193j\n",
      "8: z=-0.41295+0.10910j, abs(z)=0.427, c=-0.62772-0.42193j\n",
      "Center point escape iterations: 300\n"
     ]
    }
   ],
   "source": [
    "import numpy as np\n",
    "import matplotlib.pyplot as plt\n",
    "from matplotlib.colors import Normalize\n",
    "\n",
    "def iterate_julia(z, c, maxiter):\n",
    "    \"\"\"Iterate z = z^2 + c and check for escape condition.\"\"\"\n",
    "    for iteration in range(maxiter):\n",
    "        if abs(z) >= 2.0:\n",
    "            return iteration  # The point escapes\n",
    "        z = z * z + c\n",
    "    return maxiter  # The point doesn't escape\n",
    "\n",
    "# Example 1: Top-left corner of the plot\n",
    "z_top_left = -1.8 - 1.8j\n",
    "print(abs(z_top_left))\n",
    "c = -0.62772 - 0.42193j  # Constant c for the Julia set\n",
    "maxiter = 300  # Maximum number of iterations\n",
    "escape_iterations_top_left = iterate_julia(z_top_left, c, maxiter)\n",
    "print(f\"Top-left corner escape iterations: {escape_iterations_top_left}\")\n",
    "\n",
    "# Example 2: Center of the plot\n",
    "z_center = 0 + 0j\n",
    "for n in range(9):  # Trying a few iterations for demonstration\n",
    "    z_center = z_center * z_center + c\n",
    "    print(f\"{n}: z={z_center:.5f}, abs(z)={abs(z_center):.3f}, c={c:.5f}\")\n",
    "\n",
    "# For a thorough demonstration, let's calculate how many iterations it takes for the center point to escape\n",
    "# or confirm it stays bounded within the maxiter limit.\n",
    "z_center = 0 + 0j\n",
    "escape_iterations_center = iterate_julia(z_center, c, maxiter)\n",
    "print(f\"Center point escape iterations: {escape_iterations_center}\")"
   ]
  },
  {
   "cell_type": "code",
   "execution_count": null,
   "metadata": {
    "colab": {
     "base_uri": "https://localhost:8080/"
    },
    "id": "8NSxeUyHJxMY",
    "outputId": "eb08ae0b-c232-4e86-8756-7ca250acac86"
   },
   "outputs": [
    {
     "name": "stdout",
     "output_type": "stream",
     "text": [
      "Length of x: 1000\n",
      "Total elements: 1000000\n",
      "calculate_z_serial_purepython took 9.820289611816406 seconds\n",
      "300.0\n"
     ]
    }
   ],
   "source": [
    "\"\"\"Julia set generator without optional PIL-based image drawing\"\"\"\n",
    "import time\n",
    "from PIL import Image\n",
    "import array\n",
    "\n",
    "# area of complex space to investigate\n",
    "x1, x2, y1, y2 = -1.8, 1.8, -1.8, 1.8\n",
    "c_real, c_imag = -0.62772, -.42193\n",
    "\n",
    "\n",
    "def show_greyscale(output_raw, width, height, max_iterations):\n",
    "    \"\"\"Convert list to array, show using PIL\"\"\"\n",
    "    # convert our output to PIL-compatible input\n",
    "    # scale to [0...255]\n",
    "    max_iterations = float(max(output_raw))\n",
    "    print(max_iterations)\n",
    "    scale_factor = float(max_iterations)\n",
    "    scaled = [int(o / scale_factor * 255) for o in output_raw]\n",
    "    output = array.array('B', scaled)  # array of unsigned ints\n",
    "    # display with PIL\n",
    "    im = Image.new(\"L\", (width, width))\n",
    "    # EXPLAIN RAW L 0 -1\n",
    "    im.frombytes(output.tobytes(), \"raw\", \"L\", 0, -1)\n",
    "    im.show()\n",
    "\n",
    "\n",
    "def show_false_greyscale(output_raw, width, height, max_iterations):\n",
    "    \"\"\"Convert list to array, show using PIL\"\"\"\n",
    "    # convert our output to PIL-compatible input\n",
    "    assert width * height == len(output_raw)  # sanity check our 1D array and desired 2D form\n",
    "    # rescale output_raw to be in the inclusive range [0..255]\n",
    "    max_value = float(max(output_raw))\n",
    "    output_raw_limited = [int(float(o) / max_value * 255) for o in output_raw]\n",
    "    # create a slightly fancy colour map that shows colour changes with\n",
    "    # increased contrast (thanks to John Montgomery)\n",
    "    output_rgb = ((o + (256 * o) + (256 ** 2) * o) * 16 for o in output_raw_limited)  # fancier\n",
    "    output_rgb = array.array('I', output_rgb)  # array of unsigned ints (size is platform specific)\n",
    "    # display with PIL/pillow\n",
    "    im = Image.new(\"RGB\", (width, height))\n",
    "    # EXPLAIN RGBX L 0 -1\n",
    "    im.frombytes(output_rgb.tobytes(), \"raw\", \"RGBX\", 0, -1)\n",
    "    im.show()\n",
    "\n",
    "\n",
    "def calculate_z_serial_purepython(maxiter, zs, cs):\n",
    "    \"\"\"Calculate output list using Julia update rule\"\"\"\n",
    "    output = [0] * len(zs)\n",
    "    for i in range(len(zs)):\n",
    "        n = 0\n",
    "        z = zs[i]\n",
    "        c = cs[i]\n",
    "        while abs(z) < 2 and n < maxiter:\n",
    "            z = z * z + c\n",
    "            n += 1\n",
    "        output[i] = n\n",
    "    return output\n",
    "\n",
    "\n",
    "def calc_pure_python(draw_output, desired_width, max_iterations):\n",
    "    \"\"\"Create a list of complex co-ordinates (zs) and complex parameters (cs), build Julia set and display\"\"\"\n",
    "    x_step = (x2 - x1) / desired_width\n",
    "    y_step = (y1 - y2) / desired_width\n",
    "    x = []\n",
    "    y = []\n",
    "    ycoord = y2\n",
    "    while ycoord > y1:\n",
    "        y.append(ycoord)\n",
    "        ycoord += y_step\n",
    "    xcoord = x1\n",
    "    while xcoord < x2:\n",
    "        x.append(xcoord)\n",
    "        xcoord += x_step\n",
    "    # set width and height to the generated pixel counts, rather than the\n",
    "    # pre-rounding desired width and height\n",
    "    width = len(x)\n",
    "    height = len(y)\n",
    "    # build a list of co-ordinates and the initial condition for each cell.\n",
    "    # Note that our initial condition is a constant and could easily be removed,\n",
    "    # we use it to simulate a real-world scenario with several inputs to our function\n",
    "    zs = []\n",
    "    cs = []\n",
    "    for ycoord in y:\n",
    "        for xcoord in x:\n",
    "            zs.append(complex(xcoord, ycoord))\n",
    "            cs.append(complex(c_real, c_imag))\n",
    "\n",
    "    print(\"Length of x:\", len(x))\n",
    "    print(\"Total elements:\", len(zs))\n",
    "    start_time = time.time()\n",
    "    output = calculate_z_serial_purepython(max_iterations, zs, cs)\n",
    "    end_time = time.time()\n",
    "    secs = end_time - start_time\n",
    "    print(calculate_z_serial_purepython.__name__ + \" took\", secs, \"seconds\")\n",
    "\n",
    "    assert sum(output) == 33219980  # this sum is expected for 1000^2 grid with 300 iterations\n",
    "\n",
    "    if draw_output:\n",
    "        #show_false_greyscale(output, width, height, max_iterations)\n",
    "        show_greyscale(output, width, height, max_iterations)\n",
    "\n",
    "\n",
    "if __name__ == \"__main__\":\n",
    "    # Calculate the Julia set using a pure Python solution with\n",
    "    # reasonable defaults for a laptop\n",
    "    # set draw_output to True to use PIL to draw an image\n",
    "    calc_pure_python(draw_output=True, desired_width=1000, max_iterations=300)"
   ]
  },
  {
   "cell_type": "code",
   "execution_count": null,
   "metadata": {
    "colab": {
     "base_uri": "https://localhost:8080/",
     "height": 564
    },
    "id": "loNmAi6IKLIR",
    "outputId": "77da8f75-842e-4e86-8712-11508f1cc01c"
   },
   "outputs": [
    {
     "data": {
      "image/png": "[encoded data removed]",
      "text/plain": [
       "<Figure size 1000x600 with 1 Axes>"
      ]
     },
     "metadata": {},
     "output_type": "display_data"
    }
   ],
   "source": [
    "import matplotlib.pyplot as plt\n",
    "import numpy as np\n",
    "\n",
    "def plot_julia_iterations(c, z_values, maxiter):\n",
    "    plt.figure(figsize=(10, 6))\n",
    "\n",
    "    # Iterate over each initial z value\n",
    "    for z_init in z_values:\n",
    "        z = z_init\n",
    "        abs_values = []\n",
    "        for i in range(maxiter):\n",
    "            z = z**2 + c\n",
    "            abs_values.append(abs(z))\n",
    "            if abs(z) > 2:\n",
    "                break\n",
    "\n",
    "        # Plot the absolute values\n",
    "        plt.plot(abs_values, label=f'z={z_init}', marker='o' if z_init == 0 else 'D')\n",
    "\n",
    "    plt.axhline(y=2, color='k', linestyle='--', label='cutoff')\n",
    "    plt.title('Evolution of abs(z) with c={}'.format(c))\n",
    "    plt.xlabel('Iteration')\n",
    "    plt.ylabel('abs(z)')\n",
    "    plt.legend()\n",
    "    plt.grid(True)\n",
    "    plt.ylim(0, max(abs_values) + 0.5)  # adjust the y-axis limit to show all points clearly\n",
    "    plt.show()\n",
    "\n",
    "# Constants\n",
    "c = complex(-0.62772, -0.42193)\n",
    "maxiter = 50\n",
    "z_values = [0, -0.82]\n",
    "\n",
    "# Generate the plot\n",
    "plot_julia_iterations(c, z_values, maxiter)"
   ]
  },
  {
   "cell_type": "markdown",
   "metadata": {
    "id": "0N2X0zTgXPFc"
   },
   "source": [
    "*Figure 2-2. Two coordinate examples evolving for the Julia set*"
   ]
  },
  {
   "cell_type": "markdown",
   "metadata": {
    "id": "K-j6lgRKW4iL"
   },
   "source": [
    "### 2. Define a new function, timefn, which takes a function as an argument: the inner function, measure_time, takes *args (a variable number of positional arguments) and **kwargs (a variable number of key/value arguments) and passes them through to fn for execution. Decorate calculate_z_serial_purepythonwith @timefn to profile it. Implement Example 2-5 and adapt your current source code."
   ]
  },
  {
   "cell_type": "code",
   "execution_count": null,
   "metadata": {
    "colab": {
     "base_uri": "https://localhost:8080/"
    },
    "id": "99eibDx1We7K",
    "outputId": "09d95873-ef8b-4865-e730-128982a61cb5"
   },
   "outputs": [
    {
     "name": "stdout",
     "output_type": "stream",
     "text": [
      "Length of x: 1000\n",
      "Total elements: 1000000\n",
      "@timefn: calculate_z_serial_purepython took 16.060999631881714 seconds\n",
      "calculate_z_serial_purepython took 16.061999082565308 seconds\n"
     ]
    }
   ],
   "source": [
    "import time\n",
    "from functools import wraps\n",
    "\n",
    "# area of complex space to investigate\n",
    "x1, x2, y1, y2 = -1.8, 1.8, -1.8, 1.8\n",
    "c_real, c_imag = -0.62772, -.42193\n",
    "\n",
    "def timefn(fn):\n",
    "    @wraps(fn)\n",
    "    def measure_time(*args, **kwargs):\n",
    "        t1 = time.time()\n",
    "        result = fn(*args, **kwargs)\n",
    "        t2 = time.time()\n",
    "        print(f\"@timefn: {fn.__name__} took {t2 - t1} seconds\")\n",
    "        return result\n",
    "    return measure_time\n",
    "\n",
    "@timefn\n",
    "def calculate_z_serial_purepython(maxiter, zs, cs):\n",
    "    \"\"\"Calculate output list using Julia update rule\"\"\"\n",
    "    output = [0] * len(zs)\n",
    "    for i in range(len(zs)):\n",
    "        n = 0\n",
    "        z = zs[i]\n",
    "        c = cs[i]\n",
    "        while abs(z) < 2 and n < maxiter:\n",
    "            z = z * z + c\n",
    "            n += 1\n",
    "        output[i] = n\n",
    "    return output\n",
    "\n",
    "def calc_pure_python(draw_output, desired_width, max_iterations):\n",
    "    \"\"\"Create a list of complex coordinates (zs) and complex parameters (cs), build Julia set and display\"\"\"\n",
    "    x_step = (x2 - x1) / desired_width\n",
    "    y_step = (y2 - y1) / desired_width\n",
    "    x = [x1 + i * x_step for i in range(desired_width)]\n",
    "    y = [y1 + i * y_step for i in range(desired_width)]\n",
    "    zs = [complex(x[i % desired_width], y[i // desired_width]) for i in range(desired_width ** 2)]\n",
    "    cs = [complex(c_real, c_imag) for i in range(desired_width ** 2)]\n",
    "\n",
    "    print(\"Length of x:\", len(x))\n",
    "    print(\"Total elements:\", len(zs))\n",
    "    start_time = time.time()\n",
    "    output = calculate_z_serial_purepython(max_iterations, zs, cs)\n",
    "    end_time = time.time()\n",
    "    secs = end_time - start_time\n",
    "    print(calculate_z_serial_purepython.__name__ + \" took\", secs, \"seconds\")\n",
    "\n",
    "    # Verify the result is as expected\n",
    "    assert sum(output) == 33219980  # this sum is expected for a 1000^2 grid with 300 iterations\n",
    "\n",
    "# Run the Julia set calculation with the corrected function\n",
    "calc_pure_python(draw_output=True, desired_width=1000, max_iterations=300)"
   ]
  },
  {
   "cell_type": "markdown",
   "metadata": {
    "id": "zB85A-OYXj9d"
   },
   "source": [
    "### 3. Use the timeit modeule to get a coarse measurement of the execution speed of the CPU-bound  function. Runs  10  loops  with  5  repetitions.  Show  how  to do  the measurement on the command lineand on a Jupyter Notebook.\n"
   ]
  },
  {
   "cell_type": "markdown",
   "metadata": {
    "id": "Bs2rgNuvd5UC"
   },
   "source": [
    "### Jupyter Notebook:"
   ]
  },
  {
   "cell_type": "code",
   "execution_count": 12,
   "metadata": {
    "colab": {
     "base_uri": "https://localhost:8080/"
    },
    "id": "okR9RLfFfJi_",
    "outputId": "6d507700-307b-4b93-f27d-7b4e884017fc"
   },
   "outputs": [
    {
     "name": "stdout",
     "output_type": "stream",
     "text": [
      "Length of x: 1000\n",
      "Total elements: 1000000\n",
      "Best of 5: 13.934248685836792 sec per loop\n",
      "measure_time took 74.90498042106628 seconds\n"
     ]
    }
   ],
   "source": [
    "import time\n",
    "from functools import wraps\n",
    "\n",
    "# area of complex space to investigate\n",
    "x1, x2, y1, y2 = -1.8, 1.8, -1.8, 1.8\n",
    "c_real, c_imag = -0.62772, -.42193\n",
    "\n",
    "def timefn(fn):\n",
    "    def measure_time(*args, **kwargs):\n",
    "        times = []\n",
    "        for _ in range(5):  # number of loops\n",
    "            t1 = time.time()\n",
    "            result = fn(*args, **kwargs)\n",
    "            t2 = time.time()\n",
    "            times.append(t2 - t1)\n",
    "        best_time = min(times)\n",
    "        print(f\"Best of 5: {best_time} sec per loop\")\n",
    "        return result\n",
    "    return measure_time\n",
    "\n",
    "@timefn\n",
    "def calculate_z_serial_purepython(maxiter, zs, cs):\n",
    "    \"\"\"Calculate output list using Julia update rule\"\"\"\n",
    "    output = [0] * len(zs)\n",
    "    for i in range(len(zs)):\n",
    "        n = 0\n",
    "        z = zs[i]\n",
    "        c = cs[i]\n",
    "        while abs(z) < 2 and n < maxiter:\n",
    "            z = z * z + c\n",
    "            n += 1\n",
    "        output[i] = n\n",
    "    return output\n",
    "\n",
    "def calc_pure_python(draw_output, desired_width, max_iterations):\n",
    "    \"\"\"Create a list of complex coordinates (zs) and complex parameters (cs), build Julia set and display\"\"\"\n",
    "    x_step = (x2 - x1) / desired_width\n",
    "    y_step = (y2 - y1) / desired_width\n",
    "    x = [x1 + i * x_step for i in range(desired_width)]\n",
    "    y = [y1 + i * y_step for i in range(desired_width)]\n",
    "    zs = [complex(x[i % desired_width], y[i // desired_width]) for i in range(desired_width ** 2)]\n",
    "    cs = [complex(c_real, c_imag) for i in range(desired_width ** 2)]\n",
    "\n",
    "    print(\"Length of x:\", len(x))\n",
    "    print(\"Total elements:\", len(zs))\n",
    "    start_time = time.time()\n",
    "    output = calculate_z_serial_purepython(max_iterations, zs, cs)\n",
    "    end_time = time.time()\n",
    "    secs = end_time - start_time\n",
    "    print(calculate_z_serial_purepython.__name__ + \" took\", secs, \"seconds\")\n",
    "\n",
    "    # Verify the result is as expected\n",
    "    assert sum(output) == 33219980  # this sum is expected for a 1000^2 grid with 300 iterations\n",
    "\n",
    "# Run the Julia set calculation with the corrected function\n",
    "calc_pure_python(draw_output=False, desired_width=1000, max_iterations=300)"
   ]
  },
  {
   "cell_type": "markdown",
   "metadata": {},
   "source": [
    "### Command line"
   ]
  },
  {
   "cell_type": "code",
   "execution_count": 13,
   "metadata": {
    "colab": {
     "base_uri": "https://localhost:8080/"
    },
    "id": "ifOHPQKgmCfa",
    "outputId": "d2860cd8-1aa0-40c5-b948-d56e7f562a00"
   },
   "outputs": [
    {
     "name": "stdout",
     "output_type": "stream",
     "text": [
      "Length of x: 1000\n",
      "Total elements: 1000000\n",
      "Best of 5: 14.931426763534546 sec per loop\n",
      "measure_time took 81.14974355697632 seconds\n",
      "Length of x: 1000\n",
      "Total elements: 1000000\n",
      "Best of 5: 12.213003635406494 sec per loop\n",
      "measure_time took 72.77231550216675 seconds\n",
      "Length of x: 1000\n",
      "Total elements: 1000000\n",
      "Best of 5: 12.806839227676392 sec per loop\n",
      "measure_time took 71.97101616859436 seconds\n",
      "Length of x: 1000\n",
      "Total elements: 1000000\n",
      "Best of 5: 12.018502235412598 sec per loop\n",
      "measure_time took 64.46442151069641 seconds\n",
      "Length of x: 1000\n",
      "Total elements: 1000000\n",
      "Best of 5: 13.302000522613525 sec per loop\n",
      "measure_time took 68.27173662185669 seconds\n",
      "Length of x: 1000\n",
      "Total elements: 1000000\n",
      "Best of 5: 11.110952615737915 sec per loop\n",
      "measure_time took 60.243282079696655 seconds\n",
      "Length of x: 1000\n",
      "Total elements: 1000000\n",
      "Best of 5: 10.749995470046997 sec per loop\n",
      "measure_time took 57.45467925071716 seconds\n",
      "Length of x: 1000\n",
      "Total elements: 1000000\n",
      "Best of 5: 12.98752474784851 sec per loop\n",
      "measure_time took 70.24002361297607 seconds\n",
      "1min 7s ± 5.53 s per loop (mean ± std. dev. of 7 runs, 1 loop each)\n"
     ]
    }
   ],
   "source": [
    "%timeit calc_pure_python(draw_output=False, desired_width=1000, max_iterations=300)"
   ]
  },
  {
   "cell_type": "markdown",
   "metadata": {
    "id": "_XQ8kHBdsWhO"
   },
   "source": [
    "### 4.Use the cProfile module to profilethe source code (.py). Sort the results by the time spent inside each function. This will give a view into the slowest parts. Analyze the output and make a syntesis of the findings. Show how to use the cProfile module on the command line and on a Jupyter Notebook."
   ]
  },
  {
   "cell_type": "markdown",
   "metadata": {},
   "source": [
    "### Jupyter Notebook"
   ]
  },
  {
   "cell_type": "code",
   "execution_count": 1,
   "metadata": {
    "colab": {
     "base_uri": "https://localhost:8080/"
    },
    "id": "06h9WRpLsWJ7",
    "outputId": "a3c3d32c-0d55-4091-a2ee-01cc29f0545b"
   },
   "outputs": [
    {
     "name": "stdout",
     "output_type": "stream",
     "text": [
      "Length of x: 1000\n",
      "Total elements: 1000000\n",
      "calculate_z_serial_purepython took 22.233978271484375 seconds\n"
     ]
    }
   ],
   "source": [
    "import cProfile\n",
    "import time\n",
    "\n",
    "# Attempt to import the profile decorator from line_profiler if installed\n",
    "try:\n",
    "    from line_profiler import profile\n",
    "except ImportError:\n",
    "    def profile(func):\n",
    "        \"\"\" Dummy decorator in case line_profiler is not installed. \"\"\"\n",
    "        return func\n",
    "\n",
    "# area of complex space to investigate\n",
    "x1, x2, y1, y2 = -1.8, 1.8, -1.8, 1.8\n",
    "c_real, c_imag = -0.62772, -.42193\n",
    "\n",
    "@profile\n",
    "def calculate_z_serial_purepython(maxiter, zs, cs):\n",
    "    \"\"\"Calculate output list using Julia update rule\"\"\"\n",
    "    output = [0] * len(zs)\n",
    "    for i in range(len(zs)):\n",
    "        n = 0\n",
    "        z = zs[i]\n",
    "        c = cs[i]\n",
    "        while abs(z) < 2 and n < maxiter:\n",
    "            z = z * z + c\n",
    "            n += 1\n",
    "        output[i] = n\n",
    "    return output\n",
    "\n",
    "@profile\n",
    "def calc_pure_python(draw_output, desired_width, max_iterations):\n",
    "    \"\"\"Create a list of complex coordinates (zs) and complex parameters (cs), build Julia set and display\"\"\"\n",
    "    x_step = (x2 - x1) / desired_width\n",
    "    y_step = (y2 - y1) / desired_width\n",
    "    x = [x1 + i * x_step for i in range(desired_width)]\n",
    "    y = [y1 + i * y_step for i in range(desired_width)]\n",
    "    zs = [complex(x[i % desired_width], y[i // desired_width]) for i in range(desired_width ** 2)]\n",
    "    cs = [complex(c_real, c_imag) for i in range(desired_width ** 2)]\n",
    "\n",
    "    print(\"Length of x:\", len(x))\n",
    "    print(\"Total elements:\", len(zs))\n",
    "    start_time = time.time()\n",
    "    output = calculate_z_serial_purepython(max_iterations, zs, cs)\n",
    "    end_time = time.time()\n",
    "    secs = end_time - start_time\n",
    "    print(calculate_z_serial_purepython.__name__ + \" took\", secs, \"seconds\")\n",
    "\n",
    "    assert sum(output) == 33219980  # this sum is expected for a 1000^2 grid with 300 iterations\n",
    "\n",
    "if __name__ == \"__main__\":\n",
    "    cProfile.run('calc_pure_python(draw_output=False, desired_width=1000, max_iterations=300)', 'profile_stats')\n"
   ]
  },
  {
   "cell_type": "code",
   "execution_count": 2,
   "metadata": {
    "colab": {
     "base_uri": "https://localhost:8080/"
    },
    "id": "BlA2N4hhsa1f",
    "outputId": "1d7a7502-1782-4bb4-a570-10b17fe0744f"
   },
   "outputs": [
    {
     "name": "stdout",
     "output_type": "stream",
     "text": [
      "Fri Mar 29 18:07:03 2024    profile_stats\n",
      "\n",
      "         34220127 function calls in 22.908 seconds\n",
      "\n",
      "   Ordered by: cumulative time\n",
      "   List reduced from 29 to 10 due to restriction <10>\n",
      "\n",
      "   ncalls  tottime  percall  cumtime  percall filename:lineno(function)\n",
      "        1    0.000    0.000   22.908   22.908 {built-in method builtins.exec}\n",
      "        1    0.031    0.031   22.908   22.908 <string>:1(<module>)\n",
      "        1    0.000    0.000   22.877   22.877 C:\\Users\\Priscila\\AppData\\Local\\Temp\\ipykernel_17984\\2613920211.py:30(calc_pure_python)\n",
      "        1   15.429   15.429   22.221   22.221 C:\\Users\\Priscila\\AppData\\Local\\Temp\\ipykernel_17984\\2613920211.py:16(calculate_z_serial_purepython)\n",
      " 34219980    6.792    0.000    6.792    0.000 {built-in method builtins.abs}\n",
      "        1    0.389    0.389    0.389    0.389 C:\\Users\\Priscila\\AppData\\Local\\Temp\\ipykernel_17984\\2613920211.py:37(<listcomp>)\n",
      "        1    0.254    0.254    0.254    0.254 C:\\Users\\Priscila\\AppData\\Local\\Temp\\ipykernel_17984\\2613920211.py:38(<listcomp>)\n",
      "        1    0.011    0.011    0.011    0.011 {built-in method builtins.sum}\n",
      "        3    0.000    0.000    0.001    0.000 {built-in method builtins.print}\n",
      "       14    0.000    0.000    0.001    0.000 C:\\Users\\Priscila\\AppData\\Local\\Packages\\PythonSoftwareFoundation.Python.3.10_qbz5n2kfra8p0\\LocalCache\\local-packages\\Python310\\site-packages\\ipykernel\\iostream.py:526(write)\n",
      "\n",
      "\n"
     ]
    },
    {
     "data": {
      "text/plain": [
       "<pstats.Stats at 0x1af4d40da50>"
      ]
     },
     "execution_count": 2,
     "metadata": {},
     "output_type": "execute_result"
    }
   ],
   "source": [
    "import pstats\n",
    "\n",
    "p = pstats.Stats('profile_stats')\n",
    "p.sort_stats('cumulative').print_stats(10)  # Adjust this number to display more or fewer lines"
   ]
  },
  {
   "cell_type": "markdown",
   "metadata": {},
   "source": [
    "### Command Line"
   ]
  },
  {
   "cell_type": "markdown",
   "metadata": {},
   "source": [
    "The file to run the same code on the command line is called cprofile_part_1_4.py."
   ]
  },
  {
   "cell_type": "code",
   "execution_count": null,
   "metadata": {},
   "outputs": [],
   "source": [
    "python cprofile_part_1_4.py"
   ]
  },
  {
   "cell_type": "code",
   "execution_count": null,
   "metadata": {},
   "outputs": [],
   "source": [
    "python -m cProfile -s cumulative cprofile_part_1_4.py"
   ]
  },
  {
   "cell_type": "code",
   "execution_count": null,
   "metadata": {},
   "outputs": [],
   "source": [
    "python -c \"import pstats; p = pstats.Stats('profile_stats'); p.sort_stats('cumulative').print_stats(10)\""
   ]
  },
  {
   "cell_type": "markdown",
   "metadata": {
    "id": "5DY-XrJQsq8d"
   },
   "source": [
    "### 5. Use snakeviz to get a high-level understanding of thecPrifile statistics file.Analyze the output and make a syntesis of the findings."
   ]
  },
  {
   "cell_type": "code",
   "execution_count": 3,
   "metadata": {
    "colab": {
     "base_uri": "https://localhost:8080/"
    },
    "id": "8LTbo5yWsmLm",
    "outputId": "344dcfa0-3684-4ccc-c132-6924858b0370"
   },
   "outputs": [
    {
     "name": "stdout",
     "output_type": "stream",
     "text": [
      "Requirement already satisfied: snakeviz in c:\\users\\priscila\\appdata\\local\\packages\\pythonsoftwarefoundation.python.3.10_qbz5n2kfra8p0\\localcache\\local-packages\\python310\\site-packages (2.2.0)\n",
      "Requirement already satisfied: tornado>=2.0 in c:\\users\\priscila\\appdata\\local\\packages\\pythonsoftwarefoundation.python.3.10_qbz5n2kfra8p0\\localcache\\local-packages\\python310\\site-packages (from snakeviz) (6.2)\n"
     ]
    }
   ],
   "source": [
    "!pip install snakeviz"
   ]
  },
  {
   "cell_type": "code",
   "execution_count": null,
   "metadata": {},
   "outputs": [
    {
     "name": "stdout",
     "output_type": "stream",
     "text": [
      "Length of x: 1000\n",
      "Total elements: 1000000\n"
     ]
    }
   ],
   "source": [
    "if __name__ == \"__main__\":\n",
    "    cProfile.run('calc_pure_python(draw_output=False, desired_width=1000, max_iterations=300)', 'profile_stats')"
   ]
  },
  {
   "cell_type": "code",
   "execution_count": null,
   "metadata": {
    "colab": {
     "base_uri": "https://localhost:8080/"
    },
    "id": "JkpyCn5BtEvG",
    "outputId": "e815d646-a213-403d-a065-851a550144d1"
   },
   "outputs": [],
   "source": [
    "!snakeviz 'profile_stats'"
   ]
  },
  {
   "cell_type": "markdown",
   "metadata": {
    "id": "c5XswAdxsUir"
   },
   "source": [
    "### 6. Use  the  line_profiler  and  kernprof  file  to  profile  line-by-line  the  function calculate_z_serial_purepython. Analyze  the  output  and  make  a  syntesis  of  the findings."
   ]
  },
  {
   "cell_type": "code",
   "execution_count": 1,
   "metadata": {
    "colab": {
     "base_uri": "https://localhost:8080/"
    },
    "id": "6G1FuqrPi_s-",
    "outputId": "c793ec15-54f2-45ce-e6d3-61d498320307"
   },
   "outputs": [
    {
     "name": "stdout",
     "output_type": "stream",
     "text": [
      "Requirement already satisfied: line_profiler in c:\\users\\priscila\\appdata\\local\\packages\\pythonsoftwarefoundation.python.3.10_qbz5n2kfra8p0\\localcache\\local-packages\\python310\\site-packages (4.1.2)\n"
     ]
    }
   ],
   "source": [
    "!pip install line_profiler"
   ]
  },
  {
   "cell_type": "code",
   "execution_count": 2,
   "metadata": {
    "id": "sM8CSOLUlEVO"
   },
   "outputs": [],
   "source": [
    "%load_ext line_profiler"
   ]
  },
  {
   "cell_type": "code",
   "execution_count": 3,
   "metadata": {
    "colab": {
     "base_uri": "https://localhost:8080/"
    },
    "id": "9FScK6kaif8r",
    "outputId": "d695b858-5e06-48c1-8453-4ab87baf4b53"
   },
   "outputs": [
    {
     "name": "stdout",
     "output_type": "stream",
     "text": [
      "Length of x: 1000\n",
      "Total elements: 1000000\n",
      "calculate_z_serial_purepython took 10.623979330062866 seconds\n"
     ]
    }
   ],
   "source": [
    "import time\n",
    "\n",
    "# Attempt to import the profile decorator from line_profiler if installed\n",
    "try:\n",
    "    from line_profiler import profile\n",
    "except ImportError:\n",
    "    def profile(func):\n",
    "        \"\"\" Dummy decorator in case line_profiler is not installed. \"\"\"\n",
    "        return func\n",
    "\n",
    "# area of complex space to investigate\n",
    "x1, x2, y1, y2 = -1.8, 1.8, -1.8, 1.8\n",
    "c_real, c_imag = -0.62772, -.42193\n",
    "\n",
    "@profile\n",
    "def calculate_z_serial_purepython(maxiter, zs, cs):\n",
    "    \"\"\"Calculate output list using Julia update rule\"\"\"\n",
    "    output = [0] * len(zs)\n",
    "    for i in range(len(zs)):\n",
    "        n = 0\n",
    "        z = zs[i]\n",
    "        c = cs[i]\n",
    "        while abs(z) < 2 and n < maxiter:\n",
    "            z = z * z + c\n",
    "            n += 1\n",
    "        output[i] = n\n",
    "    return output\n",
    "\n",
    "@profile\n",
    "def calc_pure_python(draw_output, desired_width, max_iterations):\n",
    "    \"\"\"Create a list of complex coordinates (zs) and complex parameters (cs), build Julia set and display\"\"\"\n",
    "    x_step = (x2 - x1) / desired_width\n",
    "    y_step = (y2 - y1) / desired_width\n",
    "    x = [x1 + i * x_step for i in range(desired_width)]\n",
    "    y = [y1 + i * y_step for i in range(desired_width)]\n",
    "    zs = [complex(x[i % desired_width], y[i // desired_width]) for i in range(desired_width ** 2)]\n",
    "    cs = [complex(c_real, c_imag) for i in range(desired_width ** 2)]\n",
    "\n",
    "    print(\"Length of x:\", len(x))\n",
    "    print(\"Total elements:\", len(zs))\n",
    "    start_time = time.time()\n",
    "    output = calculate_z_serial_purepython(max_iterations, zs, cs)\n",
    "    end_time = time.time()\n",
    "    secs = end_time - start_time\n",
    "    print(calculate_z_serial_purepython.__name__ + \" took\", secs, \"seconds\")\n",
    "\n",
    "    assert sum(output) == 33219980  # this sum is expected for a 1000^2 grid with 300 iterations\n",
    "\n",
    "# Calculate the Julia set using a pure Python solution with\n",
    "# reasonable defaults for a laptop\n",
    "calc_pure_python(draw_output=False, desired_width=1000, max_iterations=300)\n"
   ]
  },
  {
   "cell_type": "code",
   "execution_count": 4,
   "metadata": {
    "colab": {
     "base_uri": "https://localhost:8080/"
    },
    "id": "uVEpKvK0inTH",
    "outputId": "99ee3409-9cd7-4d5e-a77f-dea4c324d151"
   },
   "outputs": [
    {
     "name": "stdout",
     "output_type": "stream",
     "text": [
      "Length of x: 1000\n",
      "Total elements: 1000000\n",
      "calculate_z_serial_purepython took 125.2259042263031 seconds\n"
     ]
    },
    {
     "data": {
      "text/plain": [
       "Timer unit: 1e-07 s\n",
       "\n",
       "Total time: 81.9963 s\n",
       "File: C:\\Users\\Priscila\\AppData\\Local\\Temp\\ipykernel_19216\\2939688537.py\n",
       "Function: calculate_z_serial_purepython at line 15\n",
       "\n",
       "Line #      Hits         Time  Per Hit   % Time  Line Contents\n",
       "==============================================================\n",
       "    15                                           @profile\n",
       "    16                                           def calculate_z_serial_purepython(maxiter, zs, cs):\n",
       "    17                                               \"\"\"Calculate output list using Julia update rule\"\"\"\n",
       "    18         1      59527.0  59527.0      0.0      output = [0] * len(zs)\n",
       "    19   1000001    5552058.0      5.6      0.7      for i in range(len(zs)):\n",
       "    20   1000000    5061430.0      5.1      0.6          n = 0\n",
       "    21   1000000    6210186.0      6.2      0.8          z = zs[i]\n",
       "    22   1000000    5880454.0      5.9      0.7          c = cs[i]\n",
       "    23  34219980  350695859.0     10.2     42.8          while abs(z) < 2 and n < maxiter:\n",
       "    24  33219980  245711516.0      7.4     30.0              z = z * z + c\n",
       "    25  33219980  194003309.0      5.8     23.7              n += 1\n",
       "    26   1000000    6788909.0      6.8      0.8          output[i] = n\n",
       "    27         1          8.0      8.0      0.0      return output"
      ]
     },
     "metadata": {},
     "output_type": "display_data"
    }
   ],
   "source": [
    "%lprun -f calculate_z_serial_purepython calc_pure_python(draw_output=False, desired_width=1000, max_iterations=300)"
   ]
  },
  {
   "cell_type": "markdown",
   "metadata": {
    "id": "8IZRjdporOF4"
   },
   "source": [
    "![image.png](data:image/png;base64,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)"
   ]
  },
  {
   "cell_type": "markdown",
   "metadata": {
    "id": "q0xTp5u6vfH1"
   },
   "source": [
    "### 7. Use the memory_profiler to diagnose memory usage. Analyze the output and make a syntesis of the findings."
   ]
  },
  {
   "cell_type": "code",
   "execution_count": 1,
   "metadata": {
    "colab": {
     "base_uri": "https://localhost:8080/"
    },
    "id": "-X_6AabtlBIb",
    "outputId": "2b3e80b8-1442-438a-c04b-4eeb93986dae"
   },
   "outputs": [
    {
     "name": "stdout",
     "output_type": "stream",
     "text": [
      "Requirement already satisfied: memory_profiler in c:\\users\\priscila\\appdata\\local\\packages\\pythonsoftwarefoundation.python.3.10_qbz5n2kfra8p0\\localcache\\local-packages\\python310\\site-packages (0.61.0)\n",
      "Requirement already satisfied: psutil in c:\\users\\priscila\\appdata\\local\\packages\\pythonsoftwarefoundation.python.3.10_qbz5n2kfra8p0\\localcache\\local-packages\\python310\\site-packages (from memory_profiler) (5.9.4)\n",
      "Requirement already satisfied: psutil in c:\\users\\priscila\\appdata\\local\\packages\\pythonsoftwarefoundation.python.3.10_qbz5n2kfra8p0\\localcache\\local-packages\\python310\\site-packages (5.9.4)\n"
     ]
    }
   ],
   "source": [
    "!pip install memory_profiler\n",
    "!pip install psutil"
   ]
  },
  {
   "cell_type": "code",
   "execution_count": 3,
   "metadata": {
    "id": "tjUEZrE40uy_"
   },
   "outputs": [
    {
     "name": "stdout",
     "output_type": "stream",
     "text": [
      "The memory_profiler extension is already loaded. To reload it, use:\n",
      "  %reload_ext memory_profiler\n"
     ]
    }
   ],
   "source": [
    "%load_ext memory_profiler"
   ]
  },
  {
   "cell_type": "code",
   "execution_count": 4,
   "metadata": {
    "colab": {
     "base_uri": "https://localhost:8080/"
    },
    "id": "XvsiC2Y700ob",
    "outputId": "cf91c1fe-b7dc-4101-edc0-62afc4eca547"
   },
   "outputs": [
    {
     "name": "stdout",
     "output_type": "stream",
     "text": [
      "Length of x: 1000\n",
      "Total elements: 1000000\n",
      "calculate_z_serial_purepython took 12.248991250991821 seconds\n",
      "peak memory: 159.28 MiB, increment: 88.51 MiB\n"
     ]
    }
   ],
   "source": [
    "%%memit\n",
    "# Import necessary libraries\n",
    "import time\n",
    "\n",
    "# Define your area of complex space and other parameters\n",
    "x1, x2, y1, y2 = -1.8, 1.8, -1.8, 1.8\n",
    "c_real, c_imag = -0.62772, -.42193\n",
    "\n",
    "def calculate_z_serial_purepython(maxiter, zs, cs):\n",
    "    \"\"\"Calculate output list using Julia update rule\"\"\"\n",
    "    output = [0] * len(zs)\n",
    "    for i in range(len(zs)):\n",
    "        n = 0\n",
    "        z = zs[i]\n",
    "        c = cs[i]\n",
    "        while abs(z) < 2 and n < maxiter:\n",
    "            z = z * z + c\n",
    "            n += 1\n",
    "        output[i] = n\n",
    "    return output\n",
    "\n",
    "def calc_pure_python(draw_output, desired_width, max_iterations):\n",
    "    \"\"\"Create a list of complex coordinates (zs) and complex parameters (cs), build Julia set\"\"\"\n",
    "    x_step = (x2 - x1) / desired_width\n",
    "    y_step = (y2 - y1) / desired_width\n",
    "    x = [x1 + i * x_step for i in range(desired_width)]\n",
    "    y = [y1 + i * y_step for i in range(desired_width)]\n",
    "    zs = [complex(x[i % desired_width], y[i // desired_width]) for i in range(desired_width ** 2)]\n",
    "    cs = [complex(c_real, c_imag) for i in range(desired_width ** 2)]\n",
    "\n",
    "    print(\"Length of x:\", len(x))\n",
    "    print(\"Total elements:\", len(zs))\n",
    "    start_time = time.time()\n",
    "    output = calculate_z_serial_purepython(max_iterations, zs, cs)\n",
    "    end_time = time.time()\n",
    "    secs = end_time - start_time\n",
    "    print(calculate_z_serial_purepython.__name__ + \" took\", secs, \"seconds\")\n",
    "\n",
    "    assert sum(output) == 33219980  # Expected sum for a 1000^2 grid with 300 iterations\n",
    "\n",
    "# Execute the function with the given parameters\n",
    "calc_pure_python(draw_output=False, desired_width=1000, max_iterations=300)\n"
   ]
  }
 ],
 "metadata": {
  "colab": {
   "provenance": []
  },
  "kernelspec": {
   "display_name": "Python 3 (ipykernel)",
   "language": "python",
   "name": "python3"
  },
  "language_info": {
   "codemirror_mode": {
    "name": "ipython",
    "version": 3
   },
   "file_extension": ".py",
   "mimetype": "text/x-python",
   "name": "python",
   "nbconvert_exporter": "python",
   "pygments_lexer": "ipython3",
   "version": "3.10.11"
  }
 },
 "nbformat": 4,
 "nbformat_minor": 4
}
